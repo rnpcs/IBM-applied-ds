{
  "nbformat": 4,
  "nbformat_minor": 0,
  "metadata": {
    "colab": {
      "name": "applied_ds.ipynb",
      "provenance": [],
      "authorship_tag": "ABX9TyORTPwA6VSt+wPs47pr2cf7"
    },
    "kernelspec": {
      "name": "python3",
      "display_name": "Python 3"
    },
    "language_info": {
      "name": "python"
    }
  },
  "cells": [
    {
      "cell_type": "markdown",
      "metadata": {
        "id": "R2ECCFQytjzs"
      },
      "source": [
        "This notebook will be mainly used for the capstone project of Applied Data Science Capstone by IBM\n",
        "\n",
        "AJ Pacis"
      ]
    },
    {
      "cell_type": "markdown",
      "metadata": {
        "id": "A7IczmbmuOdN"
      },
      "source": [
        "Week 1 instructions\n",
        "\n",
        "\n",
        "1.   Import the pandas library as pd.\n",
        "2.   Import the Numpy library as np.\n",
        "3.   Print the following the statement: Hello Capstone Project Course!\n",
        "\n"
      ]
    },
    {
      "cell_type": "code",
      "metadata": {
        "id": "l5EY7Q67tDZo"
      },
      "source": [
        "import pandas as pd\n",
        "import numpy as np"
      ],
      "execution_count": 1,
      "outputs": []
    },
    {
      "cell_type": "code",
      "metadata": {
        "colab": {
          "base_uri": "https://localhost:8080/"
        },
        "id": "R32nUg9-uEen",
        "outputId": "c315b1a5-c164-415a-b2a3-3da8529a39fc"
      },
      "source": [
        "print(\"Hello Capstone Project Course\")"
      ],
      "execution_count": 2,
      "outputs": [
        {
          "output_type": "stream",
          "text": [
            "Hello Capstone Project Course\n"
          ],
          "name": "stdout"
        }
      ]
    },
    {
      "cell_type": "code",
      "metadata": {
        "id": "w5bQ8yXpuiGg"
      },
      "source": [
        ""
      ],
      "execution_count": null,
      "outputs": []
    }
  ]
}